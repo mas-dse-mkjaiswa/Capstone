{
 "cells": [
  {
   "cell_type": "markdown",
   "metadata": {},
   "source": [
    "### PCA Analysis on Smart Building Data"
   ]
  },
  {
   "cell_type": "code",
   "execution_count": 1,
   "metadata": {},
   "outputs": [
    {
     "name": "stdout",
     "output_type": "stream",
     "text": [
      "Populating the interactive namespace from numpy and matplotlib\n"
     ]
    }
   ],
   "source": [
    "import pandas as pd\n",
    "import numpy as np\n",
    "import seaborn as sns\n",
    "\n",
    "import sklearn as sk\n",
    "import matplotlib.pyplot as plt\n",
    "%pylab inline\n",
    "%matplotlib inline\n",
    "\n",
    "from sensor_data_analysis_api import *"
   ]
  },
  {
   "cell_type": "code",
   "execution_count": 2,
   "metadata": {},
   "outputs": [
    {
     "name": "stdout",
     "output_type": "stream",
     "text": [
      "pandas version:  0.19.2\n",
      "numpy version: 1.11.3\n",
      "sklearn version: 0.18.1\n"
     ]
    }
   ],
   "source": [
    "print 'pandas version: ',pd.__version__\n",
    "print 'numpy version:',np.__version__\n",
    "print 'sklearn version:',sk.__version__\n",
    "pd.set_option(\"display.max_rows\",10)\n",
    "\n",
    "import warnings\n",
    "warnings.filterwarnings(\"ignore\")"
   ]
  },
  {
   "cell_type": "markdown",
   "metadata": {},
   "source": [
    "### Use Function to load Signals for a particular room \n",
    "\n",
    "##### Function Signature\n",
    "get_signal_dataframe(room, signals = None, mean_type=\"hour\", use_weather_data=True)\n",
    "\n",
    "signals = None               --   All Signals\n",
    "\n",
    "mean_type = quarter_hour     --   Aggregated at every 15 minute interval\n",
    "\n",
    "use_weather_data = false     --   Use and Merge Weather Data"
   ]
  },
  {
   "cell_type": "code",
   "execution_count": null,
   "metadata": {},
   "outputs": [
    {
     "name": "stdout",
     "output_type": "stream",
     "text": [
      "Read file:  506_0_3001981.csv\n",
      "Read file:  506_0_3001987.csv\n",
      "Read file:  506_0_3001985.csv\n",
      "Read file:  506_0_3001984.csv\n",
      "Read file:  506_0_3001986.csv\n",
      "Read file:  506_1_3001989.csv\n",
      "Read file:  506_1_3015755.csv\n",
      "Read file:  506_1_3001991.csv\n",
      "Read file:  506_1_3001988.csv\n",
      "Read file:  506_1_3001994.csv\n",
      "Read file:  506_1_3001993.csv\n",
      "Read file:  506_1_3001996.csv\n"
     ]
    }
   ],
   "source": [
    "room = 'Rm-4226'\n",
    "signals = [\"Zone Temperature\", 'Supply Airflow']\n",
    "\n",
    "dataDF = get_signal_dataframe(room, signals = None, mean_type=\"quarter_hour\" , use_weather_data=False)\n"
   ]
  },
  {
   "cell_type": "code",
   "execution_count": 27,
   "metadata": {},
   "outputs": [
    {
     "data": {
      "text/plain": [
       "Index([u'time', u'location', u'Actual Cooling Setpoint',\n",
       "       u'Actual Heating Setpoint', u'Cooling Command', u'Damper Command',\n",
       "       u'Damper Position', u'Heating Command', u'Maximum Supply Airflow',\n",
       "       u'Minimum Occupied Cooling Supply Airflow',\n",
       "       u'Minimum Occupied Heating Supply Airflow', u'Occupancy Command',\n",
       "       u'Reheat Valve Command', u'Supply Airflow', u'Supply Airflow Setpoint',\n",
       "       u'Temperature Setpoint', u'Warm Cool Adjust', u'Zone Temperature'],\n",
       "      dtype='object', name=u'Ground Truth Point Type')"
      ]
     },
     "execution_count": 27,
     "metadata": {},
     "output_type": "execute_result"
    }
   ],
   "source": [
    "dataDF.columns"
   ]
  },
  {
   "cell_type": "markdown",
   "metadata": {},
   "source": [
    "### PCA dimensionality reduction for the signals identified for the room Rm-3126"
   ]
  },
  {
   "cell_type": "code",
   "execution_count": 231,
   "metadata": {},
   "outputs": [],
   "source": [
    "#rm3126_signals.head(5)\n",
    "\n",
    "# Check if we  have any NaNs  in the data. Replacing NaNs with 0\n",
    "#X.isnull().values.any()\n",
    "\n",
    "df_temp = dataDF\n",
    "\n",
    "#df_temp.apply(lambda x: x.fillna(x.mean()),axis=0)\n",
    "#df_temp.fillna(method='pad', inplace = True)\n",
    "\n",
    "df_temp.fillna(method='ffill', inplace = True)\n",
    "\n",
    "room_signals = df_temp\n",
    "X = room_signals.iloc[:,2:]"
   ]
  },
  {
   "cell_type": "code",
   "execution_count": 232,
   "metadata": {},
   "outputs": [
    {
     "data": {
      "text/html": [
       "<div>\n",
       "<table border=\"1\" class=\"dataframe\">\n",
       "  <thead>\n",
       "    <tr style=\"text-align: right;\">\n",
       "      <th>Ground Truth Point Type</th>\n",
       "      <th>Actual Cooling Setpoint</th>\n",
       "      <th>Actual Heating Setpoint</th>\n",
       "      <th>Cooling Command</th>\n",
       "      <th>Damper Command</th>\n",
       "      <th>Damper Position</th>\n",
       "      <th>Heating Command</th>\n",
       "      <th>Maximum Supply Airflow</th>\n",
       "      <th>Minimum Occupied Cooling Supply Airflow</th>\n",
       "      <th>Minimum Occupied Heating Supply Airflow</th>\n",
       "      <th>Occupancy Command</th>\n",
       "      <th>Reheat Valve Command</th>\n",
       "      <th>Supply Airflow</th>\n",
       "      <th>Supply Airflow Setpoint</th>\n",
       "      <th>Temperature Setpoint</th>\n",
       "      <th>Warm Cool Adjust</th>\n",
       "      <th>Zone Temperature</th>\n",
       "    </tr>\n",
       "  </thead>\n",
       "  <tbody>\n",
       "    <tr>\n",
       "      <th>count</th>\n",
       "      <td>109850.000000</td>\n",
       "      <td>109850.000000</td>\n",
       "      <td>109850.000000</td>\n",
       "      <td>109850.000000</td>\n",
       "      <td>109850.000000</td>\n",
       "      <td>109850.000000</td>\n",
       "      <td>109850.0</td>\n",
       "      <td>109850.0</td>\n",
       "      <td>109850.0</td>\n",
       "      <td>109850.000000</td>\n",
       "      <td>109850.000000</td>\n",
       "      <td>109850.000000</td>\n",
       "      <td>109850.000000</td>\n",
       "      <td>109850.000000</td>\n",
       "      <td>109850.000000</td>\n",
       "      <td>109850.000000</td>\n",
       "    </tr>\n",
       "    <tr>\n",
       "      <th>mean</th>\n",
       "      <td>77.041654</td>\n",
       "      <td>64.711933</td>\n",
       "      <td>1.663658</td>\n",
       "      <td>-0.052120</td>\n",
       "      <td>13.379583</td>\n",
       "      <td>1.414792</td>\n",
       "      <td>540.0</td>\n",
       "      <td>165.0</td>\n",
       "      <td>165.0</td>\n",
       "      <td>1.923051</td>\n",
       "      <td>2.317166</td>\n",
       "      <td>81.678205</td>\n",
       "      <td>78.971724</td>\n",
       "      <td>71.785238</td>\n",
       "      <td>0.102847</td>\n",
       "      <td>70.976255</td>\n",
       "    </tr>\n",
       "    <tr>\n",
       "      <th>std</th>\n",
       "      <td>3.016073</td>\n",
       "      <td>5.082438</td>\n",
       "      <td>9.330392</td>\n",
       "      <td>0.553939</td>\n",
       "      <td>15.422227</td>\n",
       "      <td>7.589761</td>\n",
       "      <td>0.0</td>\n",
       "      <td>0.0</td>\n",
       "      <td>0.0</td>\n",
       "      <td>0.958986</td>\n",
       "      <td>9.801261</td>\n",
       "      <td>90.044080</td>\n",
       "      <td>94.329523</td>\n",
       "      <td>0.741558</td>\n",
       "      <td>0.475269</td>\n",
       "      <td>3.461290</td>\n",
       "    </tr>\n",
       "    <tr>\n",
       "      <th>min</th>\n",
       "      <td>64.350000</td>\n",
       "      <td>54.360000</td>\n",
       "      <td>-0.250000</td>\n",
       "      <td>-33.440000</td>\n",
       "      <td>-18.660000</td>\n",
       "      <td>-0.250000</td>\n",
       "      <td>540.0</td>\n",
       "      <td>165.0</td>\n",
       "      <td>165.0</td>\n",
       "      <td>-1.000000</td>\n",
       "      <td>0.000000</td>\n",
       "      <td>0.000000</td>\n",
       "      <td>-0.250000</td>\n",
       "      <td>62.000000</td>\n",
       "      <td>-0.980000</td>\n",
       "      <td>60.180000</td>\n",
       "    </tr>\n",
       "    <tr>\n",
       "      <th>25%</th>\n",
       "      <td>74.360000</td>\n",
       "      <td>60.350000</td>\n",
       "      <td>0.000000</td>\n",
       "      <td>-0.130000</td>\n",
       "      <td>0.000000</td>\n",
       "      <td>0.000000</td>\n",
       "      <td>540.0</td>\n",
       "      <td>165.0</td>\n",
       "      <td>165.0</td>\n",
       "      <td>1.000000</td>\n",
       "      <td>0.000000</td>\n",
       "      <td>4.502500</td>\n",
       "      <td>0.000000</td>\n",
       "      <td>72.000000</td>\n",
       "      <td>0.300000</td>\n",
       "      <td>68.570000</td>\n",
       "    </tr>\n",
       "    <tr>\n",
       "      <th>50%</th>\n",
       "      <td>76.350000</td>\n",
       "      <td>60.873333</td>\n",
       "      <td>0.000000</td>\n",
       "      <td>0.000000</td>\n",
       "      <td>0.000000</td>\n",
       "      <td>0.000000</td>\n",
       "      <td>540.0</td>\n",
       "      <td>165.0</td>\n",
       "      <td>165.0</td>\n",
       "      <td>1.267857</td>\n",
       "      <td>0.000000</td>\n",
       "      <td>17.563333</td>\n",
       "      <td>0.000000</td>\n",
       "      <td>72.000000</td>\n",
       "      <td>0.350000</td>\n",
       "      <td>70.630000</td>\n",
       "    </tr>\n",
       "    <tr>\n",
       "      <th>75%</th>\n",
       "      <td>80.350000</td>\n",
       "      <td>70.350000</td>\n",
       "      <td>0.000000</td>\n",
       "      <td>0.000000</td>\n",
       "      <td>28.060000</td>\n",
       "      <td>0.000000</td>\n",
       "      <td>540.0</td>\n",
       "      <td>165.0</td>\n",
       "      <td>165.0</td>\n",
       "      <td>3.000000</td>\n",
       "      <td>0.000000</td>\n",
       "      <td>165.777500</td>\n",
       "      <td>165.000000</td>\n",
       "      <td>72.000000</td>\n",
       "      <td>0.350000</td>\n",
       "      <td>73.305000</td>\n",
       "    </tr>\n",
       "    <tr>\n",
       "      <th>max</th>\n",
       "      <td>82.360000</td>\n",
       "      <td>76.360000</td>\n",
       "      <td>100.000000</td>\n",
       "      <td>3.150000</td>\n",
       "      <td>105.790000</td>\n",
       "      <td>100.000000</td>\n",
       "      <td>540.0</td>\n",
       "      <td>165.0</td>\n",
       "      <td>165.0</td>\n",
       "      <td>3.000000</td>\n",
       "      <td>100.000000</td>\n",
       "      <td>550.066667</td>\n",
       "      <td>540.000000</td>\n",
       "      <td>78.000000</td>\n",
       "      <td>1.110000</td>\n",
       "      <td>82.920000</td>\n",
       "    </tr>\n",
       "  </tbody>\n",
       "</table>\n",
       "</div>"
      ],
      "text/plain": [
       "Ground Truth Point Type  Actual Cooling Setpoint  Actual Heating Setpoint  \\\n",
       "count                              109850.000000            109850.000000   \n",
       "mean                                   77.041654                64.711933   \n",
       "std                                     3.016073                 5.082438   \n",
       "min                                    64.350000                54.360000   \n",
       "25%                                    74.360000                60.350000   \n",
       "50%                                    76.350000                60.873333   \n",
       "75%                                    80.350000                70.350000   \n",
       "max                                    82.360000                76.360000   \n",
       "\n",
       "Ground Truth Point Type  Cooling Command  Damper Command  Damper Position  \\\n",
       "count                      109850.000000   109850.000000    109850.000000   \n",
       "mean                            1.663658       -0.052120        13.379583   \n",
       "std                             9.330392        0.553939        15.422227   \n",
       "min                            -0.250000      -33.440000       -18.660000   \n",
       "25%                             0.000000       -0.130000         0.000000   \n",
       "50%                             0.000000        0.000000         0.000000   \n",
       "75%                             0.000000        0.000000        28.060000   \n",
       "max                           100.000000        3.150000       105.790000   \n",
       "\n",
       "Ground Truth Point Type  Heating Command  Maximum Supply Airflow  \\\n",
       "count                      109850.000000                109850.0   \n",
       "mean                            1.414792                   540.0   \n",
       "std                             7.589761                     0.0   \n",
       "min                            -0.250000                   540.0   \n",
       "25%                             0.000000                   540.0   \n",
       "50%                             0.000000                   540.0   \n",
       "75%                             0.000000                   540.0   \n",
       "max                           100.000000                   540.0   \n",
       "\n",
       "Ground Truth Point Type  Minimum Occupied Cooling Supply Airflow  \\\n",
       "count                                                   109850.0   \n",
       "mean                                                       165.0   \n",
       "std                                                          0.0   \n",
       "min                                                        165.0   \n",
       "25%                                                        165.0   \n",
       "50%                                                        165.0   \n",
       "75%                                                        165.0   \n",
       "max                                                        165.0   \n",
       "\n",
       "Ground Truth Point Type  Minimum Occupied Heating Supply Airflow  \\\n",
       "count                                                   109850.0   \n",
       "mean                                                       165.0   \n",
       "std                                                          0.0   \n",
       "min                                                        165.0   \n",
       "25%                                                        165.0   \n",
       "50%                                                        165.0   \n",
       "75%                                                        165.0   \n",
       "max                                                        165.0   \n",
       "\n",
       "Ground Truth Point Type  Occupancy Command  Reheat Valve Command  \\\n",
       "count                        109850.000000         109850.000000   \n",
       "mean                              1.923051              2.317166   \n",
       "std                               0.958986              9.801261   \n",
       "min                              -1.000000              0.000000   \n",
       "25%                               1.000000              0.000000   \n",
       "50%                               1.267857              0.000000   \n",
       "75%                               3.000000              0.000000   \n",
       "max                               3.000000            100.000000   \n",
       "\n",
       "Ground Truth Point Type  Supply Airflow  Supply Airflow Setpoint  \\\n",
       "count                     109850.000000            109850.000000   \n",
       "mean                          81.678205                78.971724   \n",
       "std                           90.044080                94.329523   \n",
       "min                            0.000000                -0.250000   \n",
       "25%                            4.502500                 0.000000   \n",
       "50%                           17.563333                 0.000000   \n",
       "75%                          165.777500               165.000000   \n",
       "max                          550.066667               540.000000   \n",
       "\n",
       "Ground Truth Point Type  Temperature Setpoint  Warm Cool Adjust  \\\n",
       "count                           109850.000000     109850.000000   \n",
       "mean                                71.785238          0.102847   \n",
       "std                                  0.741558          0.475269   \n",
       "min                                 62.000000         -0.980000   \n",
       "25%                                 72.000000          0.300000   \n",
       "50%                                 72.000000          0.350000   \n",
       "75%                                 72.000000          0.350000   \n",
       "max                                 78.000000          1.110000   \n",
       "\n",
       "Ground Truth Point Type  Zone Temperature  \n",
       "count                       109850.000000  \n",
       "mean                            70.976255  \n",
       "std                              3.461290  \n",
       "min                             60.180000  \n",
       "25%                             68.570000  \n",
       "50%                             70.630000  \n",
       "75%                             73.305000  \n",
       "max                             82.920000  "
      ]
     },
     "execution_count": 232,
     "metadata": {},
     "output_type": "execute_result"
    }
   ],
   "source": [
    "room_signals.describe()"
   ]
  },
  {
   "cell_type": "code",
   "execution_count": 233,
   "metadata": {},
   "outputs": [
    {
     "name": "stdout",
     "output_type": "stream",
     "text": [
      "Shape of the matrix before PCA\n",
      "(109850, 16)\n",
      "Shape of the matrix After PCA\n",
      "(109850, 16)\n"
     ]
    }
   ],
   "source": [
    "from sklearn.decomposition import PCA\n",
    "X = room_signals.iloc[:,2:].values\n",
    "\n",
    "pca_signals=PCA()\n",
    "X_proj = pca_signals.fit_transform(X)\n",
    "\n",
    "print \"Shape of the matrix before PCA\"\n",
    "print X.shape \n",
    "\n",
    "print \"Shape of the matrix After PCA\"\n",
    "print X_proj.shape "
   ]
  },
  {
   "cell_type": "markdown",
   "metadata": {},
   "source": [
    "### With 2 features we are able to explain 88% variance\n",
    "### With 4 features we are able to explain 95% variance"
   ]
  },
  {
   "cell_type": "code",
   "execution_count": 234,
   "metadata": {},
   "outputs": [
    {
     "data": {
      "image/png": "[encoded data removed]",
      "text/plain": [
       "<matplotlib.figure.Figure at 0x1183aaf90>"
      ]
     },
     "metadata": {},
     "output_type": "display_data"
    }
   ],
   "source": [
    "import matplotlib.pyplot as plt\n",
    "import numpy as np\n",
    "pca_signals = PCA().fit(X) \n",
    "evr = [0]+list(pca_signals.explained_variance_ratio_)\n",
    "cumulative_explained = np.cumsum(evr) \n",
    "plt.plot(cumulative_explained);\n",
    "plt.xlabel('Number of Components') \n",
    "plt.ylabel('Variance retained') \n",
    "plt.ylim(0,1) \n",
    "plt.grid()\n",
    "plt.show()"
   ]
  },
  {
   "cell_type": "markdown",
   "metadata": {
    "collapsed": true
   },
   "source": [
    "### Considering 4 eigen Vectors as we are getting 95% of the data retained."
   ]
  },
  {
   "cell_type": "code",
   "execution_count": 243,
   "metadata": {},
   "outputs": [
    {
     "data": {
      "image/png": "[encoded data removed]",
      "text/plain": [
       "<matplotlib.figure.Figure at 0x11a781f10>"
      ]
     },
     "metadata": {},
     "output_type": "display_data"
    },
    {
     "name": "stdout",
     "output_type": "stream",
     "text": [
      "\n",
      "\n",
      "\n",
      "cumulative_explained\n",
      "[ 0.          0.96788194  0.98543119  0.99301956  0.99697985  0.99803619]\n"
     ]
    }
   ],
   "source": [
    "# Perform the PCA with number of compoments (n_comp) = 4\n",
    "# use fit to calculate eigen vectors.\n",
    "\n",
    "n_comp = 5\n",
    "\n",
    "pca_with_n_eigen_vectors_signals = PCA(n_components = n_comp).fit(X) \n",
    "evr = [0]+list(pca_with_n_eigen_vectors_signals.explained_variance_ratio_)\n",
    "\n",
    "cumulative_explained = np.cumsum(evr) \n",
    "plt.plot(cumulative_explained);\n",
    "plt.xlabel('Number of Components') \n",
    "plt.ylabel('Variance retained') \n",
    "plt.ylim(0,1) \n",
    "plt.grid()\n",
    "plt.show()\n",
    "\n",
    "print \"\\n\\n\\ncumulative_explained\\n\", cumulative_explained\n"
   ]
  },
  {
   "cell_type": "code",
   "execution_count": 244,
   "metadata": {},
   "outputs": [
    {
     "data": {
      "image/png": "[encoded data removed]",
      "text/plain": [
       "<matplotlib.figure.Figure at 0x12c5cbcd0>"
      ]
     },
     "metadata": {},
     "output_type": "display_data"
    }
   ],
   "source": [
    "### Transform the current data to new vector space.\n",
    "signals_data_new_basis = pca_with_n_eigen_vectors_signals.transform(X)   \n",
    "\n",
    "\n",
    "# Append in the Dataframe. To visualize better.\n",
    "# Define df_PCA\n",
    "\n",
    "df_PCA = pd.DataFrame()\n",
    "df_PCA = df_PCA.append(pd.Series({\"original\": X, \n",
    "                                  \"eigen_matrix\":pca_with_n_eigen_vectors_signals.components_.shape,\n",
    "                                  \"transformed\":signals_data_new_basis.shape}, name=n_comp))\n",
    "\n",
    "\n",
    "#How much data are we throwing away? \n",
    "#plot number of components versus explained variance ratio as a cumulative sum to find out \n",
    "\n",
    "plt.semilogx((cumulative_explained)) \n",
    "plt.xlabel('Number of Components') \n",
    "plt.ylabel('Variance retained') \n",
    "plt.ylim(0,1) \n",
    "plt.show()"
   ]
  },
  {
   "cell_type": "markdown",
   "metadata": {},
   "source": [
    "### Transform back the data from new space to original space\n",
    "### Complete data is not recovered because we dropped few components which will throw away he data."
   ]
  },
  {
   "cell_type": "code",
   "execution_count": 245,
   "metadata": {},
   "outputs": [
    {
     "data": {
      "text/plain": [
       "(109850, 16)"
      ]
     },
     "execution_count": 245,
     "metadata": {},
     "output_type": "execute_result"
    }
   ],
   "source": [
    "signals_data_orig_basis = pca_with_n_eigen_vectors_signals.inverse_transform(signals_data_new_basis)\n",
    "signals_data_orig_basis.shape"
   ]
  },
  {
   "cell_type": "code",
   "execution_count": 246,
   "metadata": {
    "collapsed": true
   },
   "outputs": [],
   "source": [
    "df_new_room_signals = pd.DataFrame(signals_data_orig_basis)\n",
    "df_result = pd.concat([room_signals.iloc[:,0:2], df_new_room_signals], axis=1)\n",
    "df_result.columns = list(room_signals.columns)"
   ]
  },
  {
   "cell_type": "markdown",
   "metadata": {},
   "source": [
    "### PCA Loss Calculation"
   ]
  },
  {
   "cell_type": "code",
   "execution_count": 247,
   "metadata": {},
   "outputs": [
    {
     "data": {
      "text/plain": [
       "array([ 0.96788194,  0.01754925,  0.00758837,  0.00396029,  0.00105633])"
      ]
     },
     "execution_count": 247,
     "metadata": {},
     "output_type": "execute_result"
    }
   ],
   "source": [
    "pca_score = pca_with_n_eigen_vectors_signals.explained_variance_ratio_\n",
    "pca_score"
   ]
  },
  {
   "cell_type": "code",
   "execution_count": 248,
   "metadata": {},
   "outputs": [
    {
     "name": "stdout",
     "output_type": "stream",
     "text": [
      "5-component PCA: MSE = 2.15201\n"
     ]
    }
   ],
   "source": [
    "mse = ((signals_data_orig_basis - X)**2).mean(axis=None)\n",
    "print \"%d-component PCA: MSE = %0.6g\"%(n_comp,mse)"
   ]
  },
  {
   "cell_type": "code",
   "execution_count": 249,
   "metadata": {
    "collapsed": true
   },
   "outputs": [],
   "source": [
    "start_date=\"2014-12-01\"\n",
    "end_date=\"2014-12-07\"\n",
    "\n",
    "start = pd.to_datetime(start_date, format='%Y%m%d', infer_datetime_format=True)\n",
    "end = pd.to_datetime(end_date, format='%Y%m%d', infer_datetime_format=True)"
   ]
  },
  {
   "cell_type": "code",
   "execution_count": 250,
   "metadata": {},
   "outputs": [
    {
     "data": {
      "text/plain": [
       "[<matplotlib.lines.Line2D at 0x128797d90>]"
      ]
     },
     "execution_count": 250,
     "metadata": {},
     "output_type": "execute_result"
    },
    {
     "data": {
      "image/png": "[encoded data removed]",
      "text/plain": [
       "<matplotlib.figure.Figure at 0x12a4ec510>"
      ]
     },
     "metadata": {},
     "output_type": "display_data"
    }
   ],
   "source": [
    "room_signals.time = pd.to_datetime(room_signals.time)\n",
    "df = room_signals[(room_signals.time.dt.date>=start.date())&(room_signals.time.dt.date<=end.date())]\n",
    "fig = plt.figure(figsize=(12, 4))\n",
    "plt.plot(df[\"time\"],df[\"Zone Temperature\"] )\n",
    "\n",
    "df_result.time = pd.to_datetime(df_result.time)\n",
    "df2 = df_result[(df_result.time.dt.date>=start.date())&(df_result.time.dt.date<=end.date())]\n",
    "\n",
    "plt.plot(df2[\"time\"],df2[\"Zone Temperature\"] )"
   ]
  },
  {
   "cell_type": "code",
   "execution_count": null,
   "metadata": {
    "collapsed": true
   },
   "outputs": [],
   "source": []
  },
  {
   "cell_type": "code",
   "execution_count": null,
   "metadata": {
    "collapsed": true
   },
   "outputs": [],
   "source": [
    "# room = 'Rm-4226'\n",
    "# stTime='2014-12-01', enTime='2014-12-07',\n",
    "# signals = ['Zone Temperature']"
   ]
  }
 ],
 "metadata": {
  "kernelspec": {
   "display_name": "Python 2",
   "language": "python",
   "name": "python2"
  },
  "language_info": {
   "codemirror_mode": {
    "name": "ipython",
    "version": 2
   },
   "file_extension": ".py",
   "mimetype": "text/x-python",
   "name": "python",
   "nbconvert_exporter": "python",
   "pygments_lexer": "ipython2",
   "version": "2.7.13"
  }
 },
 "nbformat": 4,
 "nbformat_minor": 2
}
