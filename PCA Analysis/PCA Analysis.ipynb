{
 "cells": [
  {
   "cell_type": "markdown",
   "metadata": {},
   "source": [
    "### PCA Analysis on Smart Building Data"
   ]
  },
  {
   "cell_type": "code",
   "execution_count": 79,
   "metadata": {
    "collapsed": true
   },
   "outputs": [],
   "source": [
    "import pandas as pd\n",
    "import numpy as np\n",
    "import seaborn as sns"
   ]
  },
  {
   "cell_type": "markdown",
   "metadata": {},
   "source": [
    "### Load metadata and identify a room, here we picked room Rm-3126 and found there are 16 files to process"
   ]
  },
  {
   "cell_type": "code",
   "execution_count": 74,
   "metadata": {
    "collapsed": false
   },
   "outputs": [
    {
     "data": {
      "text/plain": [
       "array(['506_0_3003036', '506_0_3003042', '506_0_3003040', '506_0_3003039',\n",
       "       '506_0_3003041', '506_1_3003044', '506_1_3015727', '506_1_3003046',\n",
       "       '506_1_3003043', '506_1_3003049', '506_1_3003048', '506_1_3003051',\n",
       "       '506_1_3003045', '506_1_3003047', '506_1_3003050', '506_14_3003054'], dtype=object)"
      ]
     },
     "execution_count": 74,
     "metadata": {},
     "output_type": "execute_result"
    }
   ],
   "source": [
    "path = \"./ebu3b/data/\"\n",
    "metadata = \"ebu3b_metadata.csv\"\n",
    "df_meta = pd.read_csv(path+metadata)\n",
    "df_meta[df_meta.Location=='Rm-3126']['Unique Identifier'].values"
   ]
  },
  {
   "cell_type": "markdown",
   "metadata": {},
   "source": [
    "### From the identified files above, create 1 single dataframe with all the signals related to room Rm-3126"
   ]
  },
  {
   "cell_type": "code",
   "execution_count": 78,
   "metadata": {
    "collapsed": false
   },
   "outputs": [],
   "source": [
    "dfall=pd.DataFrame()\n",
    "for f in df_meta[df_meta.Location=='Rm-3126']['Unique Identifier'].values:\n",
    "    data = f+\".csv\"\n",
    "    print data\n",
    "    df = pd.read_csv(path+data)\n",
    "    df[\"identifier\"] = f\n",
    "    df['location'] = 'Rm-3126'\n",
    "    dfall = dfall.append(df,ignore_index=True)\n",
    "#dfall.to_csv(\"Rm-3126.csv\",index=False)"
   ]
  },
  {
   "cell_type": "markdown",
   "metadata": {},
   "source": [
    "### Now merge the metadata and above dataframe to get the Signals related to the files loaded for room Rm-3136"
   ]
  },
  {
   "cell_type": "code",
   "execution_count": 77,
   "metadata": {
    "collapsed": false
   },
   "outputs": [],
   "source": [
    "df_rm3136_meta = dfall.merge(df_meta,right_on=\"Unique Identifier\",left_on=\"identifier\")\n",
    "df_rm3136_signals = df_rm3136_meta[[\"time\",\"value\",\"identifier\",\"location\",\"Ground Truth Point Type\"]]\n",
    "rm3136_signals = df_rm3136_signals.pivot_table(values='value', index=['time', 'location'], \\\n",
    "                                               columns=\"Ground Truth Point Type\").reset_index().fillna(0)"
   ]
  },
  {
   "cell_type": "markdown",
   "metadata": {},
   "source": [
    "### PCA dimensionality reduction for the signals identified for the room Rm-3136"
   ]
  },
  {
   "cell_type": "code",
   "execution_count": 64,
   "metadata": {
    "collapsed": false
   },
   "outputs": [
    {
     "name": "stdout",
     "output_type": "stream",
     "text": [
      "Shape of the matrix before PCA\n",
      "(2195800L, 16L)\n",
      "Shape of the matrix After PCA\n",
      "(2195800L, 16L)\n"
     ]
    }
   ],
   "source": [
    "from sklearn.decomposition import PCA\n",
    "X = rm3136_signals.iloc[:,2:].values\n",
    "pca_signals=PCA()\n",
    "X_proj = pca_signals.fit_transform(X)\n",
    "print \"Shape of the matrix before PCA\"\n",
    "print X.shape \n",
    "print \"Shape of the matrix After PCA\"\n",
    "print X_proj.shape "
   ]
  },
  {
   "cell_type": "markdown",
   "metadata": {},
   "source": [
    "### With 2 features we are able to explain 88% variance\n",
    "### With 4 features we are able to explain 95% variance"
   ]
  },
  {
   "cell_type": "code",
   "execution_count": 80,
   "metadata": {
    "collapsed": false
   },
   "outputs": [
    {
     "data": {
      "image/png": "[encoded data removed]",
      "text/plain": [
       "<matplotlib.figure.Figure at 0x80630f98>"
      ]
     },
     "metadata": {},
     "output_type": "display_data"
    }
   ],
   "source": [
    "import matplotlib.pyplot as plt\n",
    "import numpy as np\n",
    "pca_signals = PCA().fit(X) \n",
    "evr = [0]+list(pca_signals.explained_variance_ratio_)\n",
    "cumulative_explained = np.cumsum(evr) \n",
    "plt.plot(cumulative_explained);\n",
    "plt.xlabel('Number of Components') \n",
    "plt.ylabel('Variance retained') \n",
    "plt.ylim(0,1) \n",
    "plt.grid()\n",
    "plt.show()"
   ]
  },
  {
   "cell_type": "code",
   "execution_count": null,
   "metadata": {
    "collapsed": true
   },
   "outputs": [],
   "source": []
  }
 ],
 "metadata": {
  "kernelspec": {
   "display_name": "Python 2",
   "language": "python",
   "name": "python2"
  },
  "language_info": {
   "codemirror_mode": {
    "name": "ipython",
    "version": 2
   },
   "file_extension": ".py",
   "mimetype": "text/x-python",
   "name": "python",
   "nbconvert_exporter": "python",
   "pygments_lexer": "ipython2",
   "version": "2.7.13"
  }
 },
 "nbformat": 4,
 "nbformat_minor": 2
}
